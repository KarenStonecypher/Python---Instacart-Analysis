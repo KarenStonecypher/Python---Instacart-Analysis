{
 "cells": [
  {
   "cell_type": "markdown",
   "id": "15bdced6",
   "metadata": {},
   "source": [
    "# 01. Importing Libraries"
   ]
  },
  {
   "cell_type": "code",
   "execution_count": 1,
   "id": "ad885a51",
   "metadata": {},
   "outputs": [],
   "source": [
    "# Import libraries\n",
    "import pandas as pd\n",
    "import numpy as np\n",
    "import os"
   ]
  },
  {
   "cell_type": "markdown",
   "id": "9c37b020",
   "metadata": {},
   "source": [
    " # 02. Data Types"
   ]
  },
  {
   "cell_type": "code",
   "execution_count": 30,
   "id": "edf9e46a",
   "metadata": {},
   "outputs": [],
   "source": [
    "# Addition and Subtraction to 100\n",
    "x = 40"
   ]
  },
  {
   "cell_type": "code",
   "execution_count": 31,
   "id": "5f8debf6",
   "metadata": {},
   "outputs": [
    {
     "data": {
      "text/plain": [
       "100"
      ]
     },
     "execution_count": 31,
     "metadata": {},
     "output_type": "execute_result"
    }
   ],
   "source": [
    "x + 60"
   ]
  },
  {
   "cell_type": "code",
   "execution_count": 32,
   "id": "6ac24005",
   "metadata": {},
   "outputs": [
    {
     "data": {
      "text/plain": [
       "100"
      ]
     },
     "execution_count": 32,
     "metadata": {},
     "output_type": "execute_result"
    }
   ],
   "source": [
    "30 + 70"
   ]
  },
  {
   "cell_type": "code",
   "execution_count": 33,
   "id": "72bd0861",
   "metadata": {},
   "outputs": [
    {
     "data": {
      "text/plain": [
       "100"
      ]
     },
     "execution_count": 33,
     "metadata": {},
     "output_type": "execute_result"
    }
   ],
   "source": [
    "120 - 20"
   ]
  },
  {
   "cell_type": "code",
   "execution_count": 35,
   "id": "53610e97",
   "metadata": {},
   "outputs": [],
   "source": [
    "# Code 2 floating-point variables divided by each other\n",
    "a = 8.52"
   ]
  },
  {
   "cell_type": "code",
   "execution_count": 36,
   "id": "0a7be29b",
   "metadata": {},
   "outputs": [],
   "source": [
    "b = 2.45"
   ]
  },
  {
   "cell_type": "code",
   "execution_count": 37,
   "id": "a5ab8b0c",
   "metadata": {},
   "outputs": [
    {
     "data": {
      "text/plain": [
       "3.4775510204081628"
      ]
     },
     "execution_count": 37,
     "metadata": {},
     "output_type": "execute_result"
    }
   ],
   "source": [
    "a/b"
   ]
  },
  {
   "cell_type": "code",
   "execution_count": 39,
   "id": "df79d88b",
   "metadata": {},
   "outputs": [],
   "source": [
    "# Construct 2 short sentences made of separate strings.\n",
    "c= 'Hello, '\n",
    "d= 'my '\n",
    "e= 'name '\n",
    "f= 'is '\n",
    "g= 'Karen.'"
   ]
  },
  {
   "cell_type": "code",
   "execution_count": 40,
   "id": "b6f38df3",
   "metadata": {},
   "outputs": [
    {
     "data": {
      "text/plain": [
       "'Hello, my name is Karen.'"
      ]
     },
     "execution_count": 40,
     "metadata": {},
     "output_type": "execute_result"
    }
   ],
   "source": [
    "c+d+e+f+g"
   ]
  },
  {
   "cell_type": "code",
   "execution_count": 41,
   "id": "83fac836",
   "metadata": {},
   "outputs": [],
   "source": [
    "h= 'How '\n",
    "i= 'are '\n",
    "j= 'you'\n",
    "k= '?'"
   ]
  },
  {
   "cell_type": "code",
   "execution_count": 42,
   "id": "54322c4d",
   "metadata": {},
   "outputs": [
    {
     "data": {
      "text/plain": [
       "'How are you?'"
      ]
     },
     "execution_count": 42,
     "metadata": {},
     "output_type": "execute_result"
    }
   ],
   "source": [
    "h+i+j+k"
   ]
  },
  {
   "cell_type": "code",
   "execution_count": 44,
   "id": "f516802d",
   "metadata": {},
   "outputs": [
    {
     "data": {
      "text/plain": [
       "'Hello, Hello, Hello, Hello, Hello, Hello, Hello, Hello, Hello, Hello, Hello, Hello, Hello, Hello, Hello, Hello, Hello, Hello, Hello, Hello, Hello, Hello, Hello, Hello, Hello, Hello, Hello, Hello, Hello, Hello, Hello, Hello, Hello, Hello, Hello, Hello, Hello, Hello, Hello, Hello, Hello, Hello, Hello, Hello, Hello, Hello, Hello, Hello, Hello, Hello, Hello, Hello, Hello, Hello, Hello, Hello, Hello, Hello, Hello, Hello, Hello, Hello, Hello, Hello, Hello, Hello, Hello, Hello, Hello, Hello, Hello, Hello, Hello, Hello, Hello, Hello, Hello, Hello, Hello, Hello, Hello, Hello, Hello, Hello, Hello, Hello, Hello, Hello, Hello, Hello, Hello, Hello, Hello, Hello, Hello, Hello, Hello, Hello, Hello, Hello, '"
      ]
     },
     "execution_count": 44,
     "metadata": {},
     "output_type": "execute_result"
    }
   ],
   "source": [
    "c * 100"
   ]
  },
  {
   "cell_type": "code",
   "execution_count": null,
   "id": "b0b3f5a1",
   "metadata": {},
   "outputs": [],
   "source": []
  }
 ],
 "metadata": {
  "kernelspec": {
   "display_name": "Python 3 (ipykernel)",
   "language": "python",
   "name": "python3"
  },
  "language_info": {
   "codemirror_mode": {
    "name": "ipython",
    "version": 3
   },
   "file_extension": ".py",
   "mimetype": "text/x-python",
   "name": "python",
   "nbconvert_exporter": "python",
   "pygments_lexer": "ipython3",
   "version": "3.11.4"
  }
 },
 "nbformat": 4,
 "nbformat_minor": 5
}
